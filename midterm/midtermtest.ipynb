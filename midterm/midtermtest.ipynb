{
 "metadata": {
  "language_info": {
   "codemirror_mode": {
    "name": "ipython",
    "version": 3
   },
   "file_extension": ".py",
   "mimetype": "text/x-python",
   "name": "python",
   "nbconvert_exporter": "python",
   "pygments_lexer": "ipython3",
   "version": "3.6.9-final"
  },
  "orig_nbformat": 2,
  "kernelspec": {
   "name": "python3",
   "display_name": "Python 3.6.9 64-bit",
   "metadata": {
    "interpreter": {
     "hash": "31f2aee4e71d21fbe5cf8b01ff0e069b9275f58929596ceb00d14d90e3e16cd6"
    }
   }
  }
 },
 "nbformat": 4,
 "nbformat_minor": 2,
 "cells": [
  {
   "cell_type": "code",
   "execution_count": 1,
   "metadata": {},
   "outputs": [],
   "source": [
    "import torch\n",
    "from torch import nn, optim\n",
    "from torch.autograd.variable import Variable\n",
    "from torchvision import transforms, datasets\n",
    "%matplotlib inline  \n",
    "import matplotlib.pyplot as plt\n",
    "import numpy as np\n",
    "import time\n",
    "\n",
    "N_Z_PARAMS = 8\n",
    "\n",
    "def noise(size):\n",
    "    # Generates a 1-d vector of gaussian sampled random values\n",
    "    n = Variable(torch.randn(size, N_Z_PARAMS))\n",
    "    return n\n",
    "\n",
    "def pdata_sample(size):\n",
    "    mean = np.array([2, 3])\n",
    "    cov = np.array([[4, -3], [-3, 9]])\n",
    "    return np.random.multivariate_normal(mean, cov, size)\n",
    "\n",
    "def plot_data(fig, ax, X1, X2, labels):\n",
    "    plt.title('Sample')\n",
    "    ax.plot(X1[:,0], X1[:,1], 'ro', label=labels[0])\n",
    "    ax.plot(X2[:,0], X2[:,1], 'bo', label=labels[1])\n",
    "    ax.axis('equal')\n",
    "    ax.legend()"
   ]
  },
  {
   "cell_type": "code",
   "execution_count": 3,
   "metadata": {},
   "outputs": [
    {
     "output_type": "stream",
     "name": "stdout",
     "text": [
      "(100, 2)\ntorch.Size([100, 8])\n"
     ]
    }
   ],
   "source": [
    "num_test_samples = 100\n",
    "test_data_real = pdata_sample(num_test_samples)\n",
    "test_noise = noise(num_test_samples)\n",
    "print(test_data_real.shape)\n",
    "print(test_noise.shape)"
   ]
  },
  {
   "cell_type": "code",
   "execution_count": null,
   "metadata": {},
   "outputs": [],
   "source": []
  }
 ]
}